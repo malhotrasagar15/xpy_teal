{
 "cells": [
  {
   "cell_type": "markdown",
   "id": "b6677f7f",
   "metadata": {},
   "source": [
    "### This notebook provides a tutorial on how to use the XPy-TEAL Python Tool to analyse low-resolution BP/RP *Gaia* DR3 spectra and estimate the equivalent widths of spectral lines."
   ]
  },
  {
   "cell_type": "markdown",
   "id": "84aac837",
   "metadata": {},
   "source": [
    "============================================================================================\n",
    "### Note: This tutorial uses the implementation for a **narrow-line** approximation.\n",
    "============================================================================================\n"
   ]
  },
  {
   "cell_type": "markdown",
   "id": "c8b9ab38",
   "metadata": {},
   "source": [
    "## Import Libraries"
   ]
  },
  {
   "cell_type": "code",
   "execution_count": 7,
   "id": "bb10cba2",
   "metadata": {},
   "outputs": [
    {
     "data": {
      "text/plain": [
       "<module 'xpy_teal.Codes.spectrum_tools' from '/home/sagar/PhD_Sagar/My_Projects/Lines_from_XP_Spectra/xpy_teal/src/xpy_teal/Codes/spectrum_tools.py'>"
      ]
     },
     "execution_count": 7,
     "metadata": {},
     "output_type": "execute_result"
    }
   ],
   "source": [
    "import warnings\n",
    "warnings.filterwarnings(\"ignore\", category=RuntimeWarning)\n",
    "\n",
    "import time\n",
    "from xpy_teal import line_analysis as la\n",
    "from xpy_teal import spectrum_tools as st\n",
    "from xpy_teal import math_tools as mt\n",
    "from xpy_teal import dataIO as dio\n",
    "from xpy_teal import DATA_DIR\n",
    "import numpy as np\n",
    "import pandas as pd\n",
    "import pickle\n",
    "import importlib\n",
    "importlib.reload(la)\n",
    "importlib.reload(st)\n"
   ]
  },
  {
   "cell_type": "markdown",
   "id": "71688035",
   "metadata": {},
   "source": [
    "### The user needs to input the configurations in **../Data/test.xml** file before running the code cells below."
   ]
  },
  {
   "cell_type": "markdown",
   "id": "d522cbd2",
   "metadata": {},
   "source": [
    "## Read the configuration file"
   ]
  },
  {
   "cell_type": "code",
   "execution_count": 2,
   "id": "a5fbf3be",
   "metadata": {},
   "outputs": [],
   "source": [
    "user_input = dio.read_xml(DATA_DIR / 'test.xml') # Read user input from XML file"
   ]
  },
  {
   "cell_type": "code",
   "execution_count": 3,
   "id": "bee71b09",
   "metadata": {},
   "outputs": [
    {
     "data": {
      "text/plain": [
       "{'list_of_default_lines': 'Halpha',\n",
       " 'list_of_line_wavelengths': '450,573.5',\n",
       " 'provide_all_extrema': 'true',\n",
       " 'provide_equivalent_widths': 'true',\n",
       " 'output_format': 'csv',\n",
       " 'number_of_cores': '6',\n",
       " 'data_release': 'DR3'}"
      ]
     },
     "execution_count": 3,
     "metadata": {},
     "output_type": "execute_result"
    }
   ],
   "source": [
    "user_input"
   ]
  },
  {
   "cell_type": "markdown",
   "id": "2e1a6939",
   "metadata": {},
   "source": [
    "## Read and process the file containing the XP spectra of various sources"
   ]
  },
  {
   "cell_type": "markdown",
   "id": "e1945e55",
   "metadata": {},
   "source": [
    "### In case the XP spectra are not already downloaded, the following function will download them and save them to the specified output file."
   ]
  },
  {
   "cell_type": "code",
   "execution_count": 4,
   "id": "13bf40c2",
   "metadata": {},
   "outputs": [
    {
     "name": "stdout",
     "output_type": "stream",
     "text": [
      "Missing columns in data table: ['bp_coefficients', 'rp_coefficients', 'bp_coefficient_errors', 'rp_coefficient_errors', 'bp_coefficient_correlations', 'rp_coefficient_correlations']\n",
      "Downloading XP spectra and saving to file /home/sagar/PhD_Sagar/My_Projects/Lines_from_XP_Spectra/xpy_teal/src/xpy_teal/Data/xp_continuous_downloaded.csv\n"
     ]
    }
   ],
   "source": [
    "df = pd.read_csv(DATA_DIR / 'source_ids.csv')\n",
    "df = st.download_xp_spectra_if_needed(df, source_id_column='source_id', output_file='xp_continuous_downloaded.csv')"
   ]
  },
  {
   "cell_type": "markdown",
   "id": "a20f227d",
   "metadata": {},
   "source": [
    "An end-to-end pipeline function is provided to carry out all the steps in one go. The user needs to provide the source table, source id column name, output file names for various outputs, and the configuration file name as inputs to this function."
   ]
  },
  {
   "cell_type": "code",
   "execution_count": 8,
   "id": "568cf3df",
   "metadata": {},
   "outputs": [],
   "source": [
    "from xpy_teal import xpy_teal_pipeline"
   ]
  },
  {
   "cell_type": "code",
   "execution_count": 9,
   "id": "22d6b260",
   "metadata": {},
   "outputs": [
    {
     "name": "stdout",
     "output_type": "stream",
     "text": [
      "Starting XPy-TEAL pipeline...\n",
      "Missing columns in data table: ['bp_coefficients', 'rp_coefficients', 'bp_coefficient_errors', 'rp_coefficient_errors', 'bp_coefficient_correlations', 'rp_coefficient_correlations']\n",
      "Downloading XP spectra and saving to file /home/sagar/PhD_Sagar/My_Projects/Lines_from_XP_Spectra/xpy_teal/src/xpy_teal/Data/xp_continuous_downloaded.csv\n",
      "Number of sources to analyse:  473\n",
      "Total number of lines to analyse:  3\n",
      "Time to read/download data and set up parameters:  12.637952089309692\n",
      "Time to get lines in derivative:  3.3290367126464844\n",
      "Saving all extrema information to file /home/sagar/PhD_Sagar/My_Projects/Lines_from_XP_Spectra/xpy_teal/src/xpy_teal/Data/Test_Extrema.pkl\n",
      "Time to get equivalent widths:  11.14013934135437\n",
      "Saving equivalent widths to file /home/sagar/PhD_Sagar/My_Projects/Lines_from_XP_Spectra/xpy_teal/src/xpy_teal/Data/Test_EqWidths.csv\n"
     ]
    }
   ],
   "source": [
    "df = pd.read_csv(DATA_DIR/'source_ids.csv')\n",
    "results = xpy_teal_pipeline.run_pipeline(sources_table=df,\n",
    "                                         source_id_column='source_id',\n",
    "                                         xp_continuous_output_file='xp_continuous_downloaded.csv',\n",
    "                                         eq_widths_output_file='Test_EqWidths',\n",
    "                                         extrema_output_file='Test_Extrema',\n",
    "                                         time_stamps=True,\n",
    "                                         produce_eq_widths=True,\n",
    "                                         config_file='test.xml')"
   ]
  },
  {
   "cell_type": "code",
   "execution_count": null,
   "id": "4cab70b3",
   "metadata": {},
   "outputs": [],
   "source": []
  }
 ],
 "metadata": {
  "kernelspec": {
   "display_name": "xpy-teal (3.12.9)",
   "language": "python",
   "name": "python3"
  },
  "language_info": {
   "codemirror_mode": {
    "name": "ipython",
    "version": 3
   },
   "file_extension": ".py",
   "mimetype": "text/x-python",
   "name": "python",
   "nbconvert_exporter": "python",
   "pygments_lexer": "ipython3",
   "version": "3.12.9"
  }
 },
 "nbformat": 4,
 "nbformat_minor": 5
}
